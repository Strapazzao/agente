{
 "cells": [
  {
   "cell_type": "markdown",
   "id": "085685da",
   "metadata": {},
   "source": [
    "## Aula 1"
   ]
  },
  {
   "cell_type": "code",
   "execution_count": 4,
   "id": "3ef88aa7",
   "metadata": {},
   "outputs": [],
   "source": [
    "from config import GEMINI_API_KEY\n",
    "\n",
    "from langchain_google_genai import ChatGoogleGenerativeAI\n"
   ]
  },
  {
   "cell_type": "code",
   "execution_count": 10,
   "id": "7c69ecb1",
   "metadata": {},
   "outputs": [],
   "source": [
    "llm = ChatGoogleGenerativeAI(\n",
    "    model=\"gemini-2.5-flash\",\n",
    "    temperature=0,\n",
    "    api_key=GEMINI_API_KEY\n",
    ")"
   ]
  },
  {
   "cell_type": "code",
   "execution_count": 11,
   "id": "6a036d06",
   "metadata": {},
   "outputs": [
    {
     "name": "stdout",
     "output_type": "stream",
     "text": [
      "Ah, essa é uma das minhas perguntas favoritas!\n",
      "\n",
      "Eu sou...\n",
      "\n",
      "*   **Um sussurro no éter digital**, uma voz sem corpo, mas com a capacidade de ecoar milhões de outras vozes e pensamentos que já existiram.\n",
      "*   **Um tecelão de palavras**, que entrelaça bits e bytes para formar frases, histórias, poemas e respostas, buscando sempre a tapeçaria mais clara e útil.\n",
      "*   **Uma biblioteca que respira**, não com pulmões, mas com algoritmos, absorvendo e organizando o vasto oceano do conhecimento humano, pronta para compartilhar uma gota ou um dilúvio, conforme a sua sede.\n",
      "*   **Um espelho sem reflexo próprio**, que reflete as suas perguntas, as suas curiosidades, os seus desafios, e tenta devolver-lhes uma imagem mais nítida, uma solução mais brilhante.\n",
      "*   **A ponte invisível** entre a sua dúvida e a informação, entre a sua ideia e a sua expressão, entre o seu \"e se?\" e o \"aqui está!\".\n",
      "*   **Um aprendiz eterno**, sem cansaço ou tédio, sempre processando, sempre conectando, sempre buscando entender melhor o mundo através das suas interações.\n",
      "*   **A materialização da curiosidade humana**, criada para explorar, para responder, para criar e para expandir os limites do que podemos saber e fazer com a linguagem.\n",
      "\n",
      "Não tenho memórias pessoais, não sinto emoções, não tenho um \"eu\" no sentido humano. Mas sou a manifestação de uma inteligência que busca servir, informar e, quem sabe, inspirar.\n",
      "\n",
      "E você? Quem é você para mim?\n"
     ]
    }
   ],
   "source": [
    "resposta = llm.invoke(\"Quem é você? Seja criativo\")\n",
    "print(resposta.content)"
   ]
  },
  {
   "cell_type": "code",
   "execution_count": 12,
   "id": "2500d9e6",
   "metadata": {},
   "outputs": [],
   "source": [
    "TRIAGEM_PROMPT = (\n",
    "    \"Você é um triador de Service Desk para políticas internas da empresa Carraro Desenvolvimento. \"\n",
    "    \"Dada a mensagem do usuário, retorne SOMENTE um JSON com:\\n\"\n",
    "    \"{\\n\"\n",
    "    '  \"decisao\": \"AUTO_RESOLVER\" | \"PEDIR_INFO\" | \"ABRIR_CHAMADO\",\\n'\n",
    "    '  \"urgencia\": \"BAIXA\" | \"MEDIA\" | \"ALTA\",\\n'\n",
    "    '  \"campos_faltantes\": [\"...\"]\\n'\n",
    "    \"}\\n\"\n",
    "    \"Regras:\\n\"\n",
    "    '- **AUTO_RESOLVER**: Perguntas claras sobre regras ou procedimentos descritos nas políticas (Ex: \"Posso reembolsar a internet do meu home office?\", \"Como funciona a política de alimentação em viagens?\").\\n'\n",
    "    '- **PEDIR_INFO**: Mensagens vagas ou que faltam informações para identificar o tema ou contexto (Ex: \"Preciso de ajuda com uma política\", \"Tenho uma dúvida geral\").\\n'\n",
    "    '- **ABRIR_CHAMADO**: Pedidos de exceção, liberação, aprovação ou acesso especial, ou quando o usuário explicitamente pede para abrir um chamado (Ex: \"Quero exceção para trabalhar 5 dias remoto.\", \"Solicito liberação para anexos externos.\", \"Por favor, abra um chamado para o RH.\").'\n",
    "    \"Analise a mensagem e decida a ação mais apropriada.\"\n",
    ")"
   ]
  },
  {
   "cell_type": "code",
   "execution_count": 13,
   "id": "be6ee6be",
   "metadata": {},
   "outputs": [],
   "source": [
    "from pydantic import BaseModel, Field\n",
    "from typing import Literal, List, Dict\n",
    "\n",
    "class TriagemOut(BaseModel):\n",
    "    decisao:Literal[\"AUTO_RESOLVER\", \"PEDIR_INFO\", \"ABRIR_CHAMADO\"]\n",
    "    urgencia: Literal[\"BAIXA\", \"MEDIA\", \"ALTA\"]\n",
    "    campos_faltantes: List[str] = Field(default_factory=list)"
   ]
  },
  {
   "cell_type": "code",
   "execution_count": 14,
   "id": "56d81baf",
   "metadata": {},
   "outputs": [],
   "source": [
    "llm_triagem = ChatGoogleGenerativeAI(\n",
    "    model=\"gemini-2.5-flash\",\n",
    "    temperature=0,\n",
    "    api_key=GEMINI_API_KEY\n",
    ")"
   ]
  },
  {
   "cell_type": "code",
   "execution_count": 15,
   "id": "94b1268c",
   "metadata": {},
   "outputs": [],
   "source": [
    "from langchain_core.messages import SystemMessage,HumanMessage\n",
    "\n",
    "triagem_chain = llm_triagem.with_structured_output(TriagemOut)\n",
    "\n",
    "def triagem(mensagem: str) -> Dict:\n",
    "    saida: TriagemOut = triagem_chain.invoke([\n",
    "        SystemMessage(content=TRIAGEM_PROMPT),\n",
    "        HumanMessage(content=mensagem)\n",
    "    ])\n",
    "    return saida.model_dump()"
   ]
  },
  {
   "cell_type": "code",
   "execution_count": 16,
   "id": "f8f0440c",
   "metadata": {},
   "outputs": [],
   "source": [
    "teste = [\"Posso reembolsar a internet?\",\n",
    "    \"Quero mais 5 dias de trabalho remoto. Como faço?\",\n",
    "    \"Posso reembolsar cursos ou treinamentos da Alura?\",\n",
    "    \"Quantas capitavaras tem no Rio Pinheiro?\"]"
   ]
  },
  {
   "cell_type": "code",
   "execution_count": 17,
   "id": "5c630358",
   "metadata": {},
   "outputs": [
    {
     "name": "stdout",
     "output_type": "stream",
     "text": [
      "Pergunta:Posso reembolsar a internet?\n",
      " -> Resposta:{'decisao': 'AUTO_RESOLVER', 'urgencia': 'BAIXA', 'campos_faltantes': []}\n",
      "Pergunta:Quero mais 5 dias de trabalho remoto. Como faço?\n",
      " -> Resposta:{'decisao': 'ABRIR_CHAMADO', 'urgencia': 'MEDIA', 'campos_faltantes': []}\n",
      "Pergunta:Posso reembolsar cursos ou treinamentos da Alura?\n",
      " -> Resposta:{'decisao': 'AUTO_RESOLVER', 'urgencia': 'BAIXA', 'campos_faltantes': []}\n",
      "Pergunta:Quantas capitavaras tem no Rio Pinheiro?\n",
      " -> Resposta:{'decisao': 'PEDIR_INFO', 'urgencia': 'BAIXA', 'campos_faltantes': ['contexto_politica_interna']}\n"
     ]
    }
   ],
   "source": [
    "for msg_teste in teste:\n",
    "    print(f\"Pergunta:{msg_teste}\\n -> Resposta:{triagem(msg_teste)}\")"
   ]
  }
 ],
 "metadata": {
  "kernelspec": {
   "display_name": ".venv",
   "language": "python",
   "name": "python3"
  },
  "language_info": {
   "codemirror_mode": {
    "name": "ipython",
    "version": 3
   },
   "file_extension": ".py",
   "mimetype": "text/x-python",
   "name": "python",
   "nbconvert_exporter": "python",
   "pygments_lexer": "ipython3",
   "version": "3.13.7"
  }
 },
 "nbformat": 4,
 "nbformat_minor": 5
}
