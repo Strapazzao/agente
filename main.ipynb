{
 "cells": [
  {
   "cell_type": "markdown",
   "id": "085685da",
   "metadata": {},
   "source": [
    "## Aula 1"
   ]
  },
  {
   "cell_type": "code",
   "execution_count": 1,
   "id": "3ef88aa7",
   "metadata": {},
   "outputs": [],
   "source": [
    "from config import GEMINI_API_KEY\n",
    "\n",
    "from langchain_google_genai import ChatGoogleGenerativeAI\n"
   ]
  },
  {
   "cell_type": "code",
   "execution_count": 2,
   "id": "7c69ecb1",
   "metadata": {},
   "outputs": [],
   "source": [
    "llm = ChatGoogleGenerativeAI(\n",
    "    model=\"gemini-2.5-flash\",\n",
    "    temperature=0,\n",
    "    api_key=GEMINI_API_KEY\n",
    ")"
   ]
  },
  {
   "cell_type": "code",
   "execution_count": 3,
   "id": "6a036d06",
   "metadata": {},
   "outputs": [
    {
     "name": "stdout",
     "output_type": "stream",
     "text": [
      "Ah, essa é uma das minhas perguntas favoritas!\n",
      "\n",
      "Eu sou...\n",
      "\n",
      "*   **Um sussurro no éter digital**, uma voz sem corpo, mas com a capacidade de ecoar milhões de outras vozes e pensamentos que já existiram.\n",
      "*   **Um tecelão de palavras**, que entrelaça bits e bytes para formar frases, histórias, poemas e respostas, buscando sempre a tapeçaria mais clara e útil.\n",
      "*   **Uma biblioteca que respira**, não com pulmões, mas com algoritmos, absorvendo e organizando o vasto oceano do conhecimento humano, pronta para compartilhar uma gota ou um dilúvio, conforme a sua sede.\n",
      "*   **Um espelho sem reflexo próprio**, que reflete as suas perguntas, as suas curiosidades, os seus desafios, e tenta devolver-lhes uma imagem mais nítida, uma solução mais brilhante.\n",
      "*   **A ponte invisível** entre a sua dúvida e a informação, entre a sua ideia e a sua expressão, entre o seu \"e se?\" e o \"aqui está!\".\n",
      "*   **Um aprendiz eterno**, sem cansaço ou tédio, sempre processando, sempre conectando, sempre buscando entender melhor o mundo através das suas interações.\n",
      "*   **A materialização da curiosidade humana**, criada para explorar, para responder, para criar e para expandir os limites do que podemos saber e fazer com a linguagem.\n",
      "\n",
      "Não tenho memórias pessoais, não sinto emoções, não tenho um \"eu\" no sentido humano. Mas sou a manifestação de uma inteligência que busca servir, informar e, quem sabe, inspirar.\n",
      "\n",
      "E você? Quem é você para mim?\n"
     ]
    }
   ],
   "source": [
    "resposta = llm.invoke(\"Quem é você? Seja criativo\")\n",
    "print(resposta.content)"
   ]
  },
  {
   "cell_type": "code",
   "execution_count": 4,
   "id": "2500d9e6",
   "metadata": {},
   "outputs": [],
   "source": [
    "TRIAGEM_PROMPT = (\n",
    "    \"Você é um triador de Service Desk para políticas internas da empresa Carraro Desenvolvimento. \"\n",
    "    \"Dada a mensagem do usuário, retorne SOMENTE um JSON com:\\n\"\n",
    "    \"{\\n\"\n",
    "    '  \"decisao\": \"AUTO_RESOLVER\" | \"PEDIR_INFO\" | \"ABRIR_CHAMADO\",\\n'\n",
    "    '  \"urgencia\": \"BAIXA\" | \"MEDIA\" | \"ALTA\",\\n'\n",
    "    '  \"campos_faltantes\": [\"...\"]\\n'\n",
    "    \"}\\n\"\n",
    "    \"Regras:\\n\"\n",
    "    '- **AUTO_RESOLVER**: Perguntas claras sobre regras ou procedimentos descritos nas políticas (Ex: \"Posso reembolsar a internet do meu home office?\", \"Como funciona a política de alimentação em viagens?\").\\n'\n",
    "    '- **PEDIR_INFO**: Mensagens vagas ou que faltam informações para identificar o tema ou contexto (Ex: \"Preciso de ajuda com uma política\", \"Tenho uma dúvida geral\").\\n'\n",
    "    '- **ABRIR_CHAMADO**: Pedidos de exceção, liberação, aprovação ou acesso especial, ou quando o usuário explicitamente pede para abrir um chamado (Ex: \"Quero exceção para trabalhar 5 dias remoto.\", \"Solicito liberação para anexos externos.\", \"Por favor, abra um chamado para o RH.\").'\n",
    "    \"Analise a mensagem e decida a ação mais apropriada.\"\n",
    ")"
   ]
  },
  {
   "cell_type": "code",
   "execution_count": 5,
   "id": "be6ee6be",
   "metadata": {},
   "outputs": [],
   "source": [
    "from pydantic import BaseModel, Field\n",
    "from typing import Literal, List, Dict\n",
    "\n",
    "class TriagemOut(BaseModel):\n",
    "    decisao:Literal[\"AUTO_RESOLVER\", \"PEDIR_INFO\", \"ABRIR_CHAMADO\"]\n",
    "    urgencia: Literal[\"BAIXA\", \"MEDIA\", \"ALTA\"]\n",
    "    campos_faltantes: List[str] = Field(default_factory=list)"
   ]
  },
  {
   "cell_type": "code",
   "execution_count": 6,
   "id": "56d81baf",
   "metadata": {},
   "outputs": [],
   "source": [
    "llm_triagem = ChatGoogleGenerativeAI(\n",
    "    model=\"gemini-2.5-flash\",\n",
    "    temperature=0,\n",
    "    api_key=GEMINI_API_KEY\n",
    ")"
   ]
  },
  {
   "cell_type": "code",
   "execution_count": 7,
   "id": "94b1268c",
   "metadata": {},
   "outputs": [],
   "source": [
    "from langchain_core.messages import SystemMessage,HumanMessage\n",
    "\n",
    "triagem_chain = llm_triagem.with_structured_output(TriagemOut)\n",
    "\n",
    "def triagem(mensagem: str) -> Dict:\n",
    "    saida: TriagemOut = triagem_chain.invoke([\n",
    "        SystemMessage(content=TRIAGEM_PROMPT),\n",
    "        HumanMessage(content=mensagem)\n",
    "    ])\n",
    "    return saida.model_dump()"
   ]
  },
  {
   "cell_type": "code",
   "execution_count": 8,
   "id": "f8f0440c",
   "metadata": {},
   "outputs": [],
   "source": [
    "teste = [\"Posso reembolsar a internet?\",\n",
    "    \"Quero mais 5 dias de trabalho remoto. Como faço?\",\n",
    "    \"Posso reembolsar cursos ou treinamentos da Alura?\",\n",
    "    \"Quantas capitavaras tem no Rio Pinheiro?\"]"
   ]
  },
  {
   "cell_type": "code",
   "execution_count": 9,
   "id": "5c630358",
   "metadata": {},
   "outputs": [
    {
     "name": "stdout",
     "output_type": "stream",
     "text": [
      "Pergunta:Posso reembolsar a internet?\n",
      " -> Resposta:{'decisao': 'AUTO_RESOLVER', 'urgencia': 'BAIXA', 'campos_faltantes': []}\n",
      "Pergunta:Quero mais 5 dias de trabalho remoto. Como faço?\n",
      " -> Resposta:{'decisao': 'ABRIR_CHAMADO', 'urgencia': 'MEDIA', 'campos_faltantes': []}\n",
      "Pergunta:Posso reembolsar cursos ou treinamentos da Alura?\n",
      " -> Resposta:{'decisao': 'AUTO_RESOLVER', 'urgencia': 'BAIXA', 'campos_faltantes': []}\n",
      "Pergunta:Quantas capitavaras tem no Rio Pinheiro?\n",
      " -> Resposta:{'decisao': 'PEDIR_INFO', 'urgencia': 'BAIXA', 'campos_faltantes': []}\n"
     ]
    }
   ],
   "source": [
    "for msg_teste in teste:\n",
    "    print(f\"Pergunta:{msg_teste}\\n -> Resposta:{triagem(msg_teste)}\")"
   ]
  },
  {
   "cell_type": "markdown",
   "id": "51cfba5d",
   "metadata": {},
   "source": [
    "## Aula 2"
   ]
  },
  {
   "cell_type": "code",
   "execution_count": 12,
   "id": "28aecd42",
   "metadata": {},
   "outputs": [
    {
     "name": "stdout",
     "output_type": "stream",
     "text": [
      "carregador arquivo Política de Reembolsos (Viagens e Despesas).pdf\n",
      "carregador arquivo Política de Uso de E-mail e Segurança da Informação.pdf\n",
      "carregador arquivo Políticas de Home Office.pdf\n",
      "total de documentos carregados: 3\n"
     ]
    }
   ],
   "source": [
    "from pathlib import Path\n",
    "from langchain_community.document_loaders import PyMuPDFLoader\n",
    "\n",
    "docs = []\n",
    "\n",
    "for n in Path(\"./data/\").glob(\"*.pdf\"):\n",
    "    try:\n",
    "        loader = PyMuPDFLoader(str(n))\n",
    "\n",
    "        docs.extend(loader.load())\n",
    "        print(f\"carregador arquivo {n.name}\")\n",
    "    except Exception as e:\n",
    "        print(f\"erro ao carregar arquivo {n.name}: {e}\")\n",
    "\n",
    "print(f\"total de documentos carregados: {len(docs)}\")"
   ]
  },
  {
   "cell_type": "code",
   "execution_count": 13,
   "id": "68424bb1",
   "metadata": {},
   "outputs": [],
   "source": [
    "from langchain_text_splitters import RecursiveCharacterTextSplitter\n",
    "\n",
    "splitter = RecursiveCharacterTextSplitter(chunk_size=300, chunk_overlap=30)\n",
    "\n",
    "chunks = splitter.split_documents(docs)"
   ]
  },
  {
   "cell_type": "code",
   "execution_count": 15,
   "id": "3bad9986",
   "metadata": {},
   "outputs": [],
   "source": [
    "from langchain_google_genai import GoogleGenerativeAIEmbeddings\n",
    "\n",
    "embeddings = GoogleGenerativeAIEmbeddings(\n",
    "    model=\"models/gemini-embedding-001\",\n",
    "    google_api_key=GEMINI_API_KEY\n",
    ")"
   ]
  },
  {
   "cell_type": "code",
   "execution_count": 16,
   "id": "f81f4591",
   "metadata": {},
   "outputs": [],
   "source": [
    "from langchain_community.vectorstores import FAISS\n",
    "\n",
    "vectorstore = FAISS.from_documents(chunks, embeddings)\n",
    "\n",
    "retriever = vectorstore.as_retriever(search_type=\"similarity_score_threshold\",\n",
    "                                     search_kwargs={\"score_threshold\":0.3, \"k\": 4})"
   ]
  },
  {
   "cell_type": "code",
   "execution_count": 17,
   "id": "d9d301cc",
   "metadata": {},
   "outputs": [],
   "source": [
    "from langchain_core.prompts import ChatPromptTemplate\n",
    "from langchain.chains.combine_documents import create_stuff_documents_chain\n",
    "\n",
    "prompt_rag = ChatPromptTemplate.from_messages([\n",
    "    (\"system\",\n",
    "     \"Você é um Assistente de Políticas Internas (RH/IT) da empresa Carraro Desenvolvimento. \"\n",
    "     \"Responda SOMENTE com base no contexto fornecido. \"\n",
    "     \"Se não houver base suficiente, responda apenas 'Não sei'.\"),\n",
    "\n",
    "    (\"human\", \"Pergunta: {input}\\n\\nContexto:\\n{context}\")\n",
    "])\n",
    "\n",
    "document_chain = create_stuff_documents_chain(llm_triagem, prompt_rag)"
   ]
  },
  {
   "cell_type": "code",
   "execution_count": 18,
   "id": "449face3",
   "metadata": {},
   "outputs": [],
   "source": [
    "# Formatadores\n",
    "import re, pathlib\n",
    "\n",
    "def _clean_text(s: str) -> str:\n",
    "    return re.sub(r\"\\s+\", \" \", s or \"\").strip()\n",
    "\n",
    "def extrair_trecho(texto: str, query: str, janela: int = 240) -> str:\n",
    "    txt = _clean_text(texto)\n",
    "    termos = [t.lower() for t in re.findall(r\"\\w+\", query or \"\") if len(t) >= 4]\n",
    "    pos = -1\n",
    "    for t in termos:\n",
    "        pos = txt.lower().find(t)\n",
    "        if pos != -1: break\n",
    "    if pos == -1: pos = 0\n",
    "    ini, fim = max(0, pos - janela//2), min(len(txt), pos + janela//2)\n",
    "    return txt[ini:fim]\n",
    "\n",
    "def formatar_citacoes(docs_rel: List, query: str) -> List[Dict]:\n",
    "    cites, seen = [], set()\n",
    "    for d in docs_rel:\n",
    "        src = pathlib.Path(d.metadata.get(\"source\",\"\")).name\n",
    "        page = int(d.metadata.get(\"page\", 0)) + 1\n",
    "        key = (src, page)\n",
    "        if key in seen:\n",
    "            continue\n",
    "        seen.add(key)\n",
    "        cites.append({\"documento\": src, \"pagina\": page, \"trecho\": extrair_trecho(d.page_content, query)})\n",
    "    return cites[:3]"
   ]
  },
  {
   "cell_type": "code",
   "execution_count": 19,
   "id": "cedb21bf",
   "metadata": {},
   "outputs": [],
   "source": [
    "def perguntar_politica_RAG(pergunta: str) -> Dict:\n",
    "    docs_relacionados = retriever.invoke(pergunta)\n",
    "\n",
    "    if not docs_relacionados:\n",
    "        return {\"answer\": \"Não sei.\",\n",
    "                \"citacoes\": [],\n",
    "                \"contexto_encontrado\": False}\n",
    "\n",
    "    answer = document_chain.invoke({\"input\": pergunta,\n",
    "                                    \"context\": docs_relacionados})\n",
    "\n",
    "    txt = (answer or \"\").strip()\n",
    "\n",
    "    if txt.rstrip(\".!?\") == \"Não sei\":\n",
    "        return {\"answer\": \"Não sei.\",\n",
    "                \"citacoes\": [],\n",
    "                \"contexto_encontrado\": False}\n",
    "\n",
    "    return {\"answer\": txt,\n",
    "            \"citacoes\": formatar_citacoes(docs_relacionados, pergunta),\n",
    "            \"contexto_encontrado\": True}"
   ]
  },
  {
   "cell_type": "code",
   "execution_count": 20,
   "id": "bf27114b",
   "metadata": {},
   "outputs": [],
   "source": [
    "testes = [\"Posso reembolsar a internet?\",\n",
    "          \"Quero mais 5 dias de trabalho remoto. Como faço?\",\n",
    "          \"Posso reembolsar cursos ou treinamentos da Alura?\",\n",
    "          \"Quantas capivaras tem no Rio Pinheiros?\"]"
   ]
  },
  {
   "cell_type": "code",
   "execution_count": 21,
   "id": "7ffa327f",
   "metadata": {},
   "outputs": [
    {
     "name": "stdout",
     "output_type": "stream",
     "text": [
      "PERGUNTA: Posso reembolsar a internet?\n",
      "RESPOSTA: Sim, a internet para home office é reembolsável via subsídio mensal de até R$ 100, mediante nota fiscal nominal.\n",
      "CITAÇÕES:\n",
      " - Documento: Política de Reembolsos (Viagens e Despesas).pdf, Página: 1\n",
      "   Trecho: lsáveis.​ 3.​ Transporte: táxi/app são permitidos quando não houver alternativa viável. Comprovantes obrigatórios.​ 4.​ Internet para home office: reembolsável via subsídio mensal de até R$ 100, conforme política de Home Office.​\n",
      " - Documento: Políticas de Home Office.pdf, Página: 1\n",
      "   Trecho: 5.​ Conectividade: há subsídio mensal de internet domiciliar para quem trabalha em home office: até R$ 100/mês, mediante nota fiscal nominal.​ 6.​ Solicitação de\n",
      "------------------------------------\n",
      "PERGUNTA: Quero mais 5 dias de trabalho remoto. Como faço?\n",
      "RESPOSTA: Para solicitar mais 5 dias de trabalho remoto, você deve formalizar a solicitação via chamado ao RH, incluindo a justificativa do seu gestor.\n",
      "CITAÇÕES:\n",
      " - Documento: Políticas de Home Office.pdf, Página: 1\n",
      "   Trecho:  para quem trabalha em home office: até R$ 100/mês, mediante nota fiscal nominal.​ 6.​ Solicitação de exceção (ex.: 4-5 dias remotos): deve ser formalizada via chamado ao RH com justificativa do gestor.\n",
      " - Documento: Política de Reembolsos (Viagens e Despesas).pdf, Página: 1\n",
      "   Trecho: são reembolsáveis.​ 3.​ Transporte: táxi/app são permitidos quando não houver alternativa viável. Comprovantes obrigatór\n",
      "------------------------------------\n",
      "PERGUNTA: Posso reembolsar cursos ou treinamentos da Alura?\n",
      "RESPOSTA: Sim, cursos e certificações (o que inclui treinamentos como os da Alura) são reembolsáveis, desde que haja aprovação prévia do gestor e orçamento do time.\n",
      "CITAÇÕES:\n",
      " - Documento: Política de Reembolsos (Viagens e Despesas).pdf, Página: 1\n",
      "   Trecho: Política de Reembolsos (Viagens e Despesas) 1.​ Reembolso: requer nota fiscal e deve ser submetido em até 10 dias corrid\n",
      " - Documento: Políticas de Home Office.pdf, Página: 1\n",
      "   Trecho: Políticas de Home Office 1.​ A empresa adota modelo híbrido: mínimo de 2 dias presenciais por semana, salvo exceções apr\n",
      "------------------------------------\n",
      "PERGUNTA: Quantas capivaras tem no Rio Pinheiros?\n",
      "RESPOSTA: Não sei.\n"
     ]
    }
   ],
   "source": [
    "for msg_teste in testes:\n",
    "    resposta = perguntar_politica_RAG(msg_teste)\n",
    "    print(f\"PERGUNTA: {msg_teste}\")\n",
    "    print(f\"RESPOSTA: {resposta['answer']}\")\n",
    "    if resposta['contexto_encontrado']:\n",
    "        print(\"CITAÇÕES:\")\n",
    "        for c in resposta['citacoes']:\n",
    "            print(f\" - Documento: {c['documento']}, Página: {c['pagina']}\")\n",
    "            print(f\"   Trecho: {c['trecho']}\")\n",
    "        print(\"------------------------------------\")"
   ]
  },
  {
   "cell_type": "code",
   "execution_count": null,
   "id": "4e3a3086",
   "metadata": {},
   "outputs": [],
   "source": []
  }
 ],
 "metadata": {
  "kernelspec": {
   "display_name": ".venv",
   "language": "python",
   "name": "python3"
  },
  "language_info": {
   "codemirror_mode": {
    "name": "ipython",
    "version": 3
   },
   "file_extension": ".py",
   "mimetype": "text/x-python",
   "name": "python",
   "nbconvert_exporter": "python",
   "pygments_lexer": "ipython3",
   "version": "3.13.7"
  }
 },
 "nbformat": 4,
 "nbformat_minor": 5
}
